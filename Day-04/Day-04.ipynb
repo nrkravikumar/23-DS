{
 "cells": [
  {
   "cell_type": "code",
   "execution_count": 1,
   "id": "54f4a5cc-8f59-40d6-b309-2594b0f1a96a",
   "metadata": {},
   "outputs": [
    {
     "name": "stdin",
     "output_type": "stream",
     "text": [
      "Enter a number:  45678\n"
     ]
    },
    {
     "name": "stdout",
     "output_type": "stream",
     "text": [
      "Length of 45678 is: 5\n",
      "Even numbers are: 864\n",
      "Odd numbers are: 75\n"
     ]
    }
   ],
   "source": [
    "def lennumber(k):\n",
    "    '''To print the length of a given number'''\n",
    "    m = 0\n",
    "    while k!=0:\n",
    "        m+=1\n",
    "        k//=10\n",
    "    return m\n",
    "\n",
    "def revnumber(a):\n",
    "    r = 0\n",
    "    while a!=0:\n",
    "        r = r*10+a%10\n",
    "        a//=10\n",
    "    return r\n",
    "\n",
    "def evenoddprint(w):\n",
    "    e = od = 0\n",
    "    p = revnumber(w)\n",
    "    while p!=0:\n",
    "        v = p%10\n",
    "        if v%2==0:\n",
    "            e = e*10+v\n",
    "        else:\n",
    "            od = od*10+v\n",
    "        p//=10\n",
    "    print(f\"Even numbers are: {e}\")\n",
    "    print(f\"Odd numbers are: {od}\")\n",
    "    return\n",
    "\n",
    "n = int(input(\"Enter a number: \"))\n",
    "print(f\"Length of {n} is: {lennumber(n)}\")\n",
    "evenoddprint(n)"
   ]
  },
  {
   "cell_type": "code",
   "execution_count": 3,
   "id": "fc179c78-62ee-4831-9fc2-be11566514c1",
   "metadata": {},
   "outputs": [
    {
     "name": "stdout",
     "output_type": "stream",
     "text": [
      "To print the length of a given number\n"
     ]
    }
   ],
   "source": [
    "print(lennumber.__doc__)"
   ]
  },
  {
   "cell_type": "code",
   "execution_count": 2,
   "id": "65a4a149-9163-4311-a3ba-86c4b1c46f6c",
   "metadata": {},
   "outputs": [
    {
     "name": "stdin",
     "output_type": "stream",
     "text": [
      "Enter a number:  45\n"
     ]
    },
    {
     "name": "stdout",
     "output_type": "stream",
     "text": [
      "Odd\n"
     ]
    }
   ],
   "source": [
    "def evodcheck():\n",
    "    n = int(input(\"Enter a number: \"))\n",
    "    flag = 0\n",
    "    if n%2==0:\n",
    "        flag=1\n",
    "    return flag\n",
    "\n",
    "if evodcheck() == 0:\n",
    "    print(\"Odd\")\n",
    "else:\n",
    "    print(\"Even\")"
   ]
  },
  {
   "cell_type": "code",
   "execution_count": 3,
   "id": "3cc67e74-d47a-46f7-a16b-5b1e54684e96",
   "metadata": {},
   "outputs": [
    {
     "name": "stdin",
     "output_type": "stream",
     "text": [
      "Enter a number:  4\n"
     ]
    },
    {
     "name": "stdout",
     "output_type": "stream",
     "text": [
      "Even\n"
     ]
    }
   ],
   "source": [
    "def evcheck():\n",
    "    n = int(input(\"Enter a number: \"))\n",
    "    if n%2==0:\n",
    "        print(\"Even\")\n",
    "    else:\n",
    "        print(\"Odd\")\n",
    "    return\n",
    "\n",
    "evcheck()"
   ]
  },
  {
   "cell_type": "markdown",
   "id": "fd1153aa-f787-4e7a-96e1-8ef43591ce53",
   "metadata": {},
   "source": [
    "## Argument Types:\n",
    "    - Default\n",
    "    - Required or Positional\n",
    "    - Keyword\n",
    "    - Variable Length[Arbitary]\n",
    "        => Arbitary Keyword\n",
    "        => Arbitary Positional"
   ]
  },
  {
   "cell_type": "markdown",
   "id": "dc5e608e-958d-4451-8397-a6c543466028",
   "metadata": {},
   "source": [
    "## Default Argument"
   ]
  },
  {
   "cell_type": "code",
   "execution_count": 5,
   "id": "e51da9f3-ec70-4cf1-a638-07f2a34fd314",
   "metadata": {},
   "outputs": [
    {
     "name": "stdin",
     "output_type": "stream",
     "text": [
      "Enter your roll number:  7845\n",
      "Enter your name:  Lalitha\n"
     ]
    },
    {
     "name": "stdout",
     "output_type": "stream",
     "text": [
      "Entered roll is: 7845\n",
      "Entered name is: Lalitha\n",
      "Entered year is: 3\n",
      "Entered College code is: KEC\n"
     ]
    }
   ],
   "source": [
    "def student(a,b,c=\"3\",d=\"KEC\"):\n",
    "    print(f\"Entered roll is: {a}\")\n",
    "    print(f\"Entered name is: {b}\")\n",
    "    print(f\"Entered year is: {c}\")\n",
    "    print(f\"Entered College code is: {d}\")\n",
    "    return\n",
    "\n",
    "r = input(\"Enter your roll number: \")\n",
    "n = input(\"Enter your name: \")\n",
    "student(r,n)"
   ]
  },
  {
   "cell_type": "code",
   "execution_count": 7,
   "id": "27b98d93-7891-4f1d-b0b4-3790ebd46ccb",
   "metadata": {},
   "outputs": [
    {
     "name": "stdin",
     "output_type": "stream",
     "text": [
      "Enter your roll number:  4515\n"
     ]
    },
    {
     "name": "stdout",
     "output_type": "stream",
     "text": [
      "Entered roll is: 4515\n",
      "Entered name is: Tarun\n",
      "Entered year is: 3\n",
      "Entered College code is: KEC\n"
     ]
    }
   ],
   "source": [
    "def student(a,b=\"Tarun\",c=\"3\",d=\"KEC\"):\n",
    "    print(f\"Entered roll is: {a}\")\n",
    "    print(f\"Entered name is: {b}\")\n",
    "    print(f\"Entered year is: {c}\")\n",
    "    print(f\"Entered College code is: {d}\")\n",
    "    return\n",
    "\n",
    "r = input(\"Enter your roll number: \")\n",
    "student(r)"
   ]
  },
  {
   "cell_type": "code",
   "execution_count": 8,
   "id": "5503887c-b90f-4939-9357-319cf0ce950b",
   "metadata": {},
   "outputs": [
    {
     "ename": "SyntaxError",
     "evalue": "non-default argument follows default argument (4104029224.py, line 1)",
     "output_type": "error",
     "traceback": [
      "\u001b[1;36m  Cell \u001b[1;32mIn[8], line 1\u001b[1;36m\u001b[0m\n\u001b[1;33m    def student(a,b=\"Tarun\",c,d=\"KEC\"):\u001b[0m\n\u001b[1;37m                              ^\u001b[0m\n\u001b[1;31mSyntaxError\u001b[0m\u001b[1;31m:\u001b[0m non-default argument follows default argument\n"
     ]
    }
   ],
   "source": [
    "def student(a,b=\"Tarun\",c,d=\"KEC\"):\n",
    "    print(f\"Entered roll is: {a}\")\n",
    "    print(f\"Entered name is: {b}\")\n",
    "    print(f\"Entered year is: {c}\")\n",
    "    print(f\"Entered College code is: {d}\")\n",
    "    return\n",
    "\n",
    "r = input(\"Enter your roll number: \")\n",
    "student(r)"
   ]
  },
  {
   "cell_type": "code",
   "execution_count": 9,
   "id": "5900db00-d737-4186-b218-9d52feab3eb9",
   "metadata": {},
   "outputs": [
    {
     "name": "stdin",
     "output_type": "stream",
     "text": [
      "Enter your roll number:  4515\n",
      "Enter your name:  Manoj\n",
      "Enter your year:  2\n"
     ]
    },
    {
     "name": "stdout",
     "output_type": "stream",
     "text": [
      "Entered roll is: 4515\n",
      "Entered name is: Manoj\n",
      "Entered year is: 2\n",
      "Entered College code is: KEC\n"
     ]
    }
   ],
   "source": [
    "def student(a,b=\"Tarun\",c=\"3\",d=\"KEC\"):\n",
    "    print(f\"Entered roll is: {a}\")\n",
    "    print(f\"Entered name is: {b}\")\n",
    "    print(f\"Entered year is: {c}\")\n",
    "    print(f\"Entered College code is: {d}\")\n",
    "    return\n",
    "\n",
    "r = input(\"Enter your roll number: \")\n",
    "n = input(\"Enter your name: \")\n",
    "y = int(input(\"Enter your year: \"))\n",
    "student(r,n,y)"
   ]
  },
  {
   "cell_type": "markdown",
   "id": "e4b1b578-2f8e-4a62-9c67-76d43439c7e8",
   "metadata": {},
   "source": [
    "## Required or Positional"
   ]
  },
  {
   "cell_type": "code",
   "execution_count": 10,
   "id": "7518ac41-db82-41f6-ba12-fc01312b4637",
   "metadata": {},
   "outputs": [
    {
     "name": "stdin",
     "output_type": "stream",
     "text": [
      "Enter employeeid:  E45\n",
      "Enter salary:  34000\n"
     ]
    },
    {
     "name": "stdout",
     "output_type": "stream",
     "text": [
      "Entered Employee Id is: E45\n",
      "Entered Salary is: 34000\n"
     ]
    }
   ],
   "source": [
    "def employee(p,q):\n",
    "    print(f\"Entered Employee Id is: {p}\")\n",
    "    print(f\"Entered Salary is: {q}\")\n",
    "    return\n",
    "\n",
    "e = input(\"Enter employeeid: \")\n",
    "es = input(\"Enter salary: \")\n",
    "employee(e,es)"
   ]
  },
  {
   "cell_type": "code",
   "execution_count": 11,
   "id": "7262ade1-179d-469e-b45b-88360995d55e",
   "metadata": {},
   "outputs": [
    {
     "name": "stdin",
     "output_type": "stream",
     "text": [
      "Enter employeeid:  E24\n",
      "Enter salary:  45000\n"
     ]
    },
    {
     "ename": "TypeError",
     "evalue": "employee() missing 1 required positional argument: 'y'",
     "output_type": "error",
     "traceback": [
      "\u001b[1;31m---------------------------------------------------------------------------\u001b[0m",
      "\u001b[1;31mTypeError\u001b[0m                                 Traceback (most recent call last)",
      "Cell \u001b[1;32mIn[11], line 9\u001b[0m\n\u001b[0;32m      7\u001b[0m e \u001b[38;5;241m=\u001b[39m \u001b[38;5;28minput\u001b[39m(\u001b[38;5;124m\"\u001b[39m\u001b[38;5;124mEnter employeeid: \u001b[39m\u001b[38;5;124m\"\u001b[39m)\n\u001b[0;32m      8\u001b[0m es \u001b[38;5;241m=\u001b[39m \u001b[38;5;28minput\u001b[39m(\u001b[38;5;124m\"\u001b[39m\u001b[38;5;124mEnter salary: \u001b[39m\u001b[38;5;124m\"\u001b[39m)\n\u001b[1;32m----> 9\u001b[0m \u001b[43memployee\u001b[49m\u001b[43m(\u001b[49m\u001b[43me\u001b[49m\u001b[43m,\u001b[49m\u001b[43mes\u001b[49m\u001b[43m)\u001b[49m\n",
      "\u001b[1;31mTypeError\u001b[0m: employee() missing 1 required positional argument: 'y'"
     ]
    }
   ],
   "source": [
    "def employee(p,q,y):\n",
    "    print(f\"Entered Employee Id is: {p}\")\n",
    "    print(f\"Entered Salary is: {q}\")\n",
    "    print(f\"Entered age is: {y}\")\n",
    "    return\n",
    "\n",
    "e = input(\"Enter employeeid: \")\n",
    "es = input(\"Enter salary: \")\n",
    "employee(e,es)"
   ]
  },
  {
   "cell_type": "code",
   "execution_count": 12,
   "id": "03198a97-c5d0-46b6-8c6a-16df04598955",
   "metadata": {},
   "outputs": [
    {
     "name": "stdin",
     "output_type": "stream",
     "text": [
      "Enter employeeid:  E78\n",
      "Enter salary:  23000\n"
     ]
    },
    {
     "ename": "TypeError",
     "evalue": "employee() takes 1 positional argument but 2 were given",
     "output_type": "error",
     "traceback": [
      "\u001b[1;31m---------------------------------------------------------------------------\u001b[0m",
      "\u001b[1;31mTypeError\u001b[0m                                 Traceback (most recent call last)",
      "Cell \u001b[1;32mIn[12], line 7\u001b[0m\n\u001b[0;32m      5\u001b[0m e \u001b[38;5;241m=\u001b[39m \u001b[38;5;28minput\u001b[39m(\u001b[38;5;124m\"\u001b[39m\u001b[38;5;124mEnter employeeid: \u001b[39m\u001b[38;5;124m\"\u001b[39m)\n\u001b[0;32m      6\u001b[0m es \u001b[38;5;241m=\u001b[39m \u001b[38;5;28minput\u001b[39m(\u001b[38;5;124m\"\u001b[39m\u001b[38;5;124mEnter salary: \u001b[39m\u001b[38;5;124m\"\u001b[39m)\n\u001b[1;32m----> 7\u001b[0m \u001b[43memployee\u001b[49m\u001b[43m(\u001b[49m\u001b[43me\u001b[49m\u001b[43m,\u001b[49m\u001b[43mes\u001b[49m\u001b[43m)\u001b[49m\n",
      "\u001b[1;31mTypeError\u001b[0m: employee() takes 1 positional argument but 2 were given"
     ]
    }
   ],
   "source": [
    "def employee(p):\n",
    "    print(f\"Entered Employee Id is: {p}\")\n",
    "    return\n",
    "\n",
    "e = input(\"Enter employeeid: \")\n",
    "es = input(\"Enter salary: \")\n",
    "employee(e,es)"
   ]
  },
  {
   "cell_type": "code",
   "execution_count": 13,
   "id": "b5703a9d-4f8b-48d6-ad64-eb4d7d33a270",
   "metadata": {},
   "outputs": [
    {
     "name": "stdin",
     "output_type": "stream",
     "text": [
      "Enter employeeid:  E34\n"
     ]
    },
    {
     "name": "stdout",
     "output_type": "stream",
     "text": [
      "Entered Employee Id is: E34\n",
      "Entered Salary is: 45000\n"
     ]
    }
   ],
   "source": [
    "def employee(p,q=\"45000\"):\n",
    "    print(f\"Entered Employee Id is: {p}\")\n",
    "    print(f\"Entered Salary is: {q}\")\n",
    "    return\n",
    "\n",
    "e = input(\"Enter employeeid: \")\n",
    "employee(e)"
   ]
  },
  {
   "cell_type": "markdown",
   "id": "0e06ed2b-ed90-47f8-8a15-4be552780b9b",
   "metadata": {},
   "source": [
    "## Keyword Argument"
   ]
  },
  {
   "cell_type": "code",
   "execution_count": 15,
   "id": "a0ea5245-5a79-40dc-a5a3-2f3f0144651a",
   "metadata": {},
   "outputs": [
    {
     "name": "stdin",
     "output_type": "stream",
     "text": [
      "Enter your name:  Rajesh\n",
      "Enter your branch:  DS\n",
      "Enter your age:  25\n",
      "Enter your year:  3\n"
     ]
    },
    {
     "name": "stdout",
     "output_type": "stream",
     "text": [
      "Student Details\n",
      "Branch: DS\n",
      "Name: Rajesh\n",
      "Age: 25\n",
      "Year: 3\n"
     ]
    }
   ],
   "source": [
    "def stu(b,a,n,y):\n",
    "    print(\"Student Details\")\n",
    "    print(f\"Branch: {b}\")\n",
    "    print(f\"Name: {n}\")\n",
    "    print(f\"Age: {a}\")\n",
    "    print(f\"Year: {y}\")\n",
    "    return\n",
    "\n",
    "name = input(\"Enter your name: \")\n",
    "branch = input(\"Enter your branch: \")\n",
    "age = int(input(\"Enter your age: \"))\n",
    "year = int(input(\"Enter your year: \"))\n",
    "stu(n=name,a=age,y=year,b=branch)"
   ]
  },
  {
   "cell_type": "code",
   "execution_count": 16,
   "id": "d702ee31-7fd9-4d61-8d74-0cb1eb63e5e5",
   "metadata": {},
   "outputs": [
    {
     "ename": "SyntaxError",
     "evalue": "non-default argument follows default argument (3276529277.py, line 1)",
     "output_type": "error",
     "traceback": [
      "\u001b[1;36m  Cell \u001b[1;32mIn[16], line 1\u001b[1;36m\u001b[0m\n\u001b[1;33m    def stu(b,a,z=\"KEC\",n,y):\u001b[0m\n\u001b[1;37m                          ^\u001b[0m\n\u001b[1;31mSyntaxError\u001b[0m\u001b[1;31m:\u001b[0m non-default argument follows default argument\n"
     ]
    }
   ],
   "source": [
    "def stu(b,a,z=\"KEC\",n,y):\n",
    "    print(\"Student Details\")\n",
    "    print(f\"Branch: {b}\")\n",
    "    print(f\"Name: {n}\")\n",
    "    print(f\"Age: {a}\")\n",
    "    print(f\"Year: {y}\")\n",
    "    return\n",
    "\n",
    "name = input(\"Enter your name: \")\n",
    "branch = input(\"Enter your branch: \")\n",
    "age = int(input(\"Enter your age: \"))\n",
    "year = int(input(\"Enter your year: \"))\n",
    "stu(n=name,a=age,y=year,b=branch)"
   ]
  },
  {
   "cell_type": "code",
   "execution_count": 17,
   "id": "e861d6f9-66bd-4c85-b456-618c9fa0caa5",
   "metadata": {},
   "outputs": [
    {
     "name": "stdin",
     "output_type": "stream",
     "text": [
      "Enter your name:  kiran\n",
      "Enter your branch:  CSE\n",
      "Enter your age:  23\n",
      "Enter your year:  2\n",
      "Enter college name:  KEC\n"
     ]
    },
    {
     "ename": "TypeError",
     "evalue": "stu() got an unexpected keyword argument 'g'",
     "output_type": "error",
     "traceback": [
      "\u001b[1;31m---------------------------------------------------------------------------\u001b[0m",
      "\u001b[1;31mTypeError\u001b[0m                                 Traceback (most recent call last)",
      "Cell \u001b[1;32mIn[17], line 14\u001b[0m\n\u001b[0;32m     12\u001b[0m year \u001b[38;5;241m=\u001b[39m \u001b[38;5;28mint\u001b[39m(\u001b[38;5;28minput\u001b[39m(\u001b[38;5;124m\"\u001b[39m\u001b[38;5;124mEnter your year: \u001b[39m\u001b[38;5;124m\"\u001b[39m))\n\u001b[0;32m     13\u001b[0m college \u001b[38;5;241m=\u001b[39m \u001b[38;5;28minput\u001b[39m(\u001b[38;5;124m\"\u001b[39m\u001b[38;5;124mEnter college name: \u001b[39m\u001b[38;5;124m\"\u001b[39m)\n\u001b[1;32m---> 14\u001b[0m \u001b[43mstu\u001b[49m\u001b[43m(\u001b[49m\u001b[43mn\u001b[49m\u001b[38;5;241;43m=\u001b[39;49m\u001b[43mname\u001b[49m\u001b[43m,\u001b[49m\u001b[43ma\u001b[49m\u001b[38;5;241;43m=\u001b[39;49m\u001b[43mage\u001b[49m\u001b[43m,\u001b[49m\u001b[43my\u001b[49m\u001b[38;5;241;43m=\u001b[39;49m\u001b[43myear\u001b[49m\u001b[43m,\u001b[49m\u001b[43mb\u001b[49m\u001b[38;5;241;43m=\u001b[39;49m\u001b[43mbranch\u001b[49m\u001b[43m,\u001b[49m\u001b[43mg\u001b[49m\u001b[38;5;241;43m=\u001b[39;49m\u001b[43mcollege\u001b[49m\u001b[43m)\u001b[49m\n",
      "\u001b[1;31mTypeError\u001b[0m: stu() got an unexpected keyword argument 'g'"
     ]
    }
   ],
   "source": [
    "def stu(b,a,n,y,x):\n",
    "    print(\"Student Details\")\n",
    "    print(f\"Branch: {b}\")\n",
    "    print(f\"Name: {n}\")\n",
    "    print(f\"Age: {a}\")\n",
    "    print(f\"Year: {y}\")\n",
    "    return\n",
    "\n",
    "name = input(\"Enter your name: \")\n",
    "branch = input(\"Enter your branch: \")\n",
    "age = int(input(\"Enter your age: \"))\n",
    "year = int(input(\"Enter your year: \"))\n",
    "college = input(\"Enter college name: \")\n",
    "stu(n=name,a=age,y=year,b=branch,g=college)"
   ]
  },
  {
   "cell_type": "markdown",
   "id": "99a14ce4-3318-4641-86c6-2863b79930a2",
   "metadata": {},
   "source": [
    "## Variable Length:"
   ]
  },
  {
   "cell_type": "code",
   "execution_count": 19,
   "id": "c1628b79-ca98-40ed-9cc6-b2bc18b10dd7",
   "metadata": {},
   "outputs": [
    {
     "name": "stdout",
     "output_type": "stream",
     "text": [
      "23F41A3201 <class 'str'>\n",
      "(45, 89, 56, 45, 12) <class 'tuple'>\n",
      "{'name': 'Naresh', 'age': '22'} <class 'dict'>\n"
     ]
    }
   ],
   "source": [
    "def std(a,*b,**c):\n",
    "    print(a,type(a))\n",
    "    print(b,type(b))\n",
    "    print(c,type(c))\n",
    "    return\n",
    "\n",
    "std(\"23F41A3201\",45,89,56,45,12,name=\"Naresh\",age=\"22\")"
   ]
  },
  {
   "cell_type": "code",
   "execution_count": 20,
   "id": "2849279d-7f21-4d14-b09d-f08537730302",
   "metadata": {},
   "outputs": [
    {
     "name": "stdout",
     "output_type": "stream",
     "text": [
      "('23F41A3201', 45, 89, 56, 45, 12) <class 'tuple'>\n",
      "{'name': 'Naresh', 'age': '22'} <class 'dict'>\n"
     ]
    }
   ],
   "source": [
    "def std(*b,**c):\n",
    "    print(b,type(b))\n",
    "    print(c,type(c))\n",
    "    return\n",
    "\n",
    "std(\"23F41A3201\",45,89,56,45,12,name=\"Naresh\",age=\"22\")"
   ]
  },
  {
   "cell_type": "code",
   "execution_count": 21,
   "id": "205334cd-e4a0-44d9-997e-943741c2c17d",
   "metadata": {},
   "outputs": [
    {
     "ename": "SyntaxError",
     "evalue": "positional argument follows keyword argument (3815671402.py, line 6)",
     "output_type": "error",
     "traceback": [
      "\u001b[1;36m  Cell \u001b[1;32mIn[21], line 6\u001b[1;36m\u001b[0m\n\u001b[1;33m    std(\"23F41A3201\",45,college=\"KEC\",89,56,45,12,name=\"Naresh\",age=\"22\")\u001b[0m\n\u001b[1;37m                                                                        ^\u001b[0m\n\u001b[1;31mSyntaxError\u001b[0m\u001b[1;31m:\u001b[0m positional argument follows keyword argument\n"
     ]
    }
   ],
   "source": [
    "def std(*b,**c):\n",
    "    print(b,type(b))\n",
    "    print(c,type(c))\n",
    "    return\n",
    "\n",
    "std(\"23F41A3201\",45,college=\"KEC\",89,56,45,12,name=\"Naresh\",age=\"22\")"
   ]
  },
  {
   "cell_type": "code",
   "execution_count": 24,
   "id": "ed03af18-4b3b-4620-b558-46971e4f5946",
   "metadata": {},
   "outputs": [
    {
     "ename": "TypeError",
     "evalue": "std() takes 0 positional arguments but 6 were given",
     "output_type": "error",
     "traceback": [
      "\u001b[1;31m---------------------------------------------------------------------------\u001b[0m",
      "\u001b[1;31mTypeError\u001b[0m                                 Traceback (most recent call last)",
      "Cell \u001b[1;32mIn[24], line 5\u001b[0m\n\u001b[0;32m      2\u001b[0m     \u001b[38;5;28mprint\u001b[39m(c,\u001b[38;5;28mtype\u001b[39m(c))\n\u001b[0;32m      3\u001b[0m     \u001b[38;5;28;01mreturn\u001b[39;00m\n\u001b[1;32m----> 5\u001b[0m \u001b[43mstd\u001b[49m\u001b[43m(\u001b[49m\u001b[38;5;124;43m\"\u001b[39;49m\u001b[38;5;124;43m23F41A3201\u001b[39;49m\u001b[38;5;124;43m\"\u001b[39;49m\u001b[43m,\u001b[49m\u001b[38;5;241;43m45\u001b[39;49m\u001b[43m,\u001b[49m\u001b[38;5;241;43m89\u001b[39;49m\u001b[43m,\u001b[49m\u001b[38;5;241;43m56\u001b[39;49m\u001b[43m,\u001b[49m\u001b[38;5;241;43m45\u001b[39;49m\u001b[43m,\u001b[49m\u001b[38;5;241;43m12\u001b[39;49m\u001b[43m,\u001b[49m\u001b[43mname\u001b[49m\u001b[38;5;241;43m=\u001b[39;49m\u001b[38;5;124;43m\"\u001b[39;49m\u001b[38;5;124;43mNaresh\u001b[39;49m\u001b[38;5;124;43m\"\u001b[39;49m\u001b[43m,\u001b[49m\u001b[43mage\u001b[49m\u001b[38;5;241;43m=\u001b[39;49m\u001b[38;5;124;43m\"\u001b[39;49m\u001b[38;5;124;43m22\u001b[39;49m\u001b[38;5;124;43m\"\u001b[39;49m\u001b[43m)\u001b[49m\n",
      "\u001b[1;31mTypeError\u001b[0m: std() takes 0 positional arguments but 6 were given"
     ]
    }
   ],
   "source": [
    "def std(**c):\n",
    "    print(c,type(c))\n",
    "    return\n",
    "\n",
    "std(\"23F41A3201\",45,89,56,45,12,name=\"Naresh\",age=\"22\")"
   ]
  },
  {
   "cell_type": "code",
   "execution_count": 25,
   "id": "1e285f02-d17d-4ed5-81ae-346aa691589e",
   "metadata": {},
   "outputs": [
    {
     "ename": "TypeError",
     "evalue": "std() got an unexpected keyword argument 'name'",
     "output_type": "error",
     "traceback": [
      "\u001b[1;31m---------------------------------------------------------------------------\u001b[0m",
      "\u001b[1;31mTypeError\u001b[0m                                 Traceback (most recent call last)",
      "Cell \u001b[1;32mIn[25], line 5\u001b[0m\n\u001b[0;32m      2\u001b[0m     \u001b[38;5;28mprint\u001b[39m(b,\u001b[38;5;28mtype\u001b[39m(b))\n\u001b[0;32m      3\u001b[0m     \u001b[38;5;28;01mreturn\u001b[39;00m\n\u001b[1;32m----> 5\u001b[0m \u001b[43mstd\u001b[49m\u001b[43m(\u001b[49m\u001b[38;5;124;43m\"\u001b[39;49m\u001b[38;5;124;43m23F41A3201\u001b[39;49m\u001b[38;5;124;43m\"\u001b[39;49m\u001b[43m,\u001b[49m\u001b[38;5;241;43m45\u001b[39;49m\u001b[43m,\u001b[49m\u001b[38;5;241;43m89\u001b[39;49m\u001b[43m,\u001b[49m\u001b[38;5;241;43m56\u001b[39;49m\u001b[43m,\u001b[49m\u001b[38;5;241;43m45\u001b[39;49m\u001b[43m,\u001b[49m\u001b[38;5;241;43m12\u001b[39;49m\u001b[43m,\u001b[49m\u001b[43mname\u001b[49m\u001b[38;5;241;43m=\u001b[39;49m\u001b[38;5;124;43m\"\u001b[39;49m\u001b[38;5;124;43mNaresh\u001b[39;49m\u001b[38;5;124;43m\"\u001b[39;49m\u001b[43m,\u001b[49m\u001b[43mage\u001b[49m\u001b[38;5;241;43m=\u001b[39;49m\u001b[38;5;124;43m\"\u001b[39;49m\u001b[38;5;124;43m22\u001b[39;49m\u001b[38;5;124;43m\"\u001b[39;49m\u001b[43m)\u001b[49m\n",
      "\u001b[1;31mTypeError\u001b[0m: std() got an unexpected keyword argument 'name'"
     ]
    }
   ],
   "source": [
    "def std(*b):\n",
    "    print(b,type(b))\n",
    "    return\n",
    "\n",
    "std(\"23F41A3201\",45,89,56,45,12,name=\"Naresh\",age=\"22\")"
   ]
  },
  {
   "cell_type": "markdown",
   "id": "a4cd5cd2-4892-41ac-bd38-82d68a0a2f74",
   "metadata": {},
   "source": [
    "## Data Structures:\n",
    "    - To organise the data in order or unorder format\n",
    "    - List\n",
    "    - Tuple\n",
    "    - Set\n",
    "    - String\n",
    "    - Dictionary"
   ]
  },
  {
   "cell_type": "markdown",
   "id": "e9175312-f0f0-4f11-831e-1034b6eb2948",
   "metadata": {},
   "source": [
    "## List:\n",
    "    - It can be represented as [] and seperated with ,\n",
    "    - It stores all data type values \n",
    "    - It stores data in ordered format\n",
    "    - It can changes a value\n",
    "    - It allows duplicate values\n",
    "    - slicing can be done due to index\n",
    "    - It can be typcasted as list()"
   ]
  },
  {
   "cell_type": "code",
   "execution_count": 26,
   "id": "2cb0f0a9-51ad-4944-a9d9-c8a2dd5b1af0",
   "metadata": {},
   "outputs": [
    {
     "name": "stdout",
     "output_type": "stream",
     "text": [
      "[] <class 'list'>\n",
      "[] <class 'list'>\n"
     ]
    }
   ],
   "source": [
    "k = []\n",
    "n = list()\n",
    "print(k,type(k))\n",
    "print(n,type(n))"
   ]
  },
  {
   "cell_type": "code",
   "execution_count": 27,
   "id": "96a716b4-ecdf-4aaa-97a9-e9a9d5e02a23",
   "metadata": {},
   "outputs": [
    {
     "name": "stdout",
     "output_type": "stream",
     "text": [
      "[78, 45.0212, True, None, (4+35j), 'Lokesh', 78, 78, 78] <class 'list'>\n"
     ]
    }
   ],
   "source": [
    "n = [78,45.0212,True,None,4+35j,\"Lokesh\",78,78,78]\n",
    "print(n,type(n))"
   ]
  },
  {
   "cell_type": "code",
   "execution_count": 29,
   "id": "e89bbd8a-ea30-4fca-bb0e-a5ebcaeb8729",
   "metadata": {},
   "outputs": [
    {
     "name": "stdout",
     "output_type": "stream",
     "text": [
      "[78, 45.0212, True, None, (4+35j), 'Lokesh', 78, 78, 78]\n",
      "[78, 45.0212, True, None, (4+35j), 'Lokesh', 78, 78, 78]\n",
      "[78, 45.0212, True, None, (4+35j), 'Lokesh', 78, 78, 78]\n",
      "78\n",
      "Lokesh\n"
     ]
    }
   ],
   "source": [
    "print(n)\n",
    "print(n[:])\n",
    "print(n[::])\n",
    "print(n[0])\n",
    "print(n[-4])"
   ]
  },
  {
   "cell_type": "code",
   "execution_count": 33,
   "id": "c0b793c1-6434-473f-92d1-d8f0757bc668",
   "metadata": {},
   "outputs": [
    {
     "name": "stdout",
     "output_type": "stream",
     "text": [
      "[78, 45.0212, True, None, (4+35j), 'Lokesh', 78, 78, 78]\n",
      "[45.0212, True, None, (4+35j), 'Lokesh', 78, 78, 78]\n",
      "[78, 78, 78]\n",
      "[78, 45.0212, True]\n",
      "[78, 45.0212, True, None]\n"
     ]
    }
   ],
   "source": [
    "print(n)\n",
    "print(n[1:])\n",
    "print(n[-3:])\n",
    "print(n[:3])\n",
    "print(n[:-5])"
   ]
  },
  {
   "cell_type": "code",
   "execution_count": 40,
   "id": "8e266fd0-e69c-43a5-b09b-e71080a352f5",
   "metadata": {},
   "outputs": [
    {
     "name": "stdout",
     "output_type": "stream",
     "text": [
      "[78, 45.0212, True, None, (4+35j), 'Lokesh', 78, 78, 78]\n",
      "[True, None, (4+35j)]\n",
      "[45.0212, True, None, (4+35j), 'Lokesh']\n",
      "[(4+35j), 'Lokesh']\n",
      "[(4+35j), 'Lokesh', 78]\n",
      "[True, None, (4+35j), 'Lokesh']\n"
     ]
    }
   ],
   "source": [
    "print(n)\n",
    "print(n[2:5])\n",
    "print(n[1:-3])\n",
    "print(n[4:-3])\n",
    "print(n[-5:7])\n",
    "print(n[-7:-3])"
   ]
  },
  {
   "cell_type": "code",
   "execution_count": 41,
   "id": "eb548264-4247-46e7-b8e7-073d95a9618e",
   "metadata": {},
   "outputs": [
    {
     "name": "stdout",
     "output_type": "stream",
     "text": [
      "[78, 45.0212, True, None, (4+35j), 'Lokesh', 78, 78, 78]\n",
      "[True, None, (4+35j), 'Lokesh', 78, 78, 78]\n",
      "[78, 45.0212, True, None, (4+35j), 'Lokesh']\n",
      "[78, True, (4+35j), 78, 78]\n",
      "[78, 78]\n",
      "[78, 45.0212, True]\n",
      "[78, 78, (4+35j), True, 78]\n"
     ]
    }
   ],
   "source": [
    "print(n)\n",
    "print(n[2::])\n",
    "print(n[:6:])\n",
    "print(n[::2])\n",
    "print(n[-2::])\n",
    "print(n[:-6:])\n",
    "print(n[::-2])"
   ]
  },
  {
   "cell_type": "code",
   "execution_count": 44,
   "id": "3b12eda1-c79c-43f4-be9a-b7b772cfb0f2",
   "metadata": {},
   "outputs": [
    {
     "name": "stdout",
     "output_type": "stream",
     "text": [
      "[78, 45.0212, True, None, (4+35j), 'Lokesh', 78, 78, 78]\n",
      "[True, None, (4+35j), 'Lokesh', 78]\n",
      "[78]\n",
      "['Lokesh']\n",
      "[(4+35j), 'Lokesh']\n"
     ]
    }
   ],
   "source": [
    "print(n)\n",
    "print(n[2:7:])\n",
    "print(n[-2:8:])\n",
    "print(n[-4:-3:])\n",
    "print(n[4:-3:])"
   ]
  },
  {
   "cell_type": "code",
   "execution_count": 54,
   "id": "f8433005-6734-4dcf-bd4c-ddbd8e1de57e",
   "metadata": {},
   "outputs": [
    {
     "name": "stdout",
     "output_type": "stream",
     "text": [
      "[78, 45.0212, True, None, (4+35j), 'Lokesh', 78, 78, 78]\n",
      "[True, (4+35j)]\n",
      "[(4+35j)]\n",
      "[True, (4+35j)]\n",
      "['Lokesh', (4+35j), None, True]\n",
      "[78, 78, 78, 'Lokesh', (4+35j), None, True, 45.0212, 78]\n"
     ]
    }
   ],
   "source": [
    "print(n)\n",
    "print(n[2:6:2])\n",
    "print(n[-5:6:2])\n",
    "print(n[2:-3:2])\n",
    "print(n[5:1:-1])\n",
    "print(n[::-1])"
   ]
  },
  {
   "cell_type": "code",
   "execution_count": 56,
   "id": "af563958-9dc1-4c3f-9cbc-056959eb9ba1",
   "metadata": {},
   "outputs": [
    {
     "name": "stdout",
     "output_type": "stream",
     "text": [
      "12 <class 'int'>\n",
      "56.021 <class 'float'>\n",
      "Manoj <class 'str'>\n",
      "False <class 'bool'>\n",
      "None <class 'NoneType'>\n",
      "12 <class 'int'>\n",
      "12 <class 'int'>\n",
      "(4+56j) <class 'complex'>\n"
     ]
    }
   ],
   "source": [
    "g = [12,56.021,\"Manoj\",False,None,12,12,4+56j]\n",
    "for i in range(len(g)):\n",
    "    print(g[i],type(g[i]))"
   ]
  },
  {
   "cell_type": "code",
   "execution_count": 57,
   "id": "e1864c0b-9f3b-48c4-9495-56e70a09c11d",
   "metadata": {},
   "outputs": [
    {
     "name": "stdout",
     "output_type": "stream",
     "text": [
      "12 <class 'int'>\n",
      "56.021 <class 'float'>\n",
      "Manoj <class 'str'>\n",
      "False <class 'bool'>\n",
      "None <class 'NoneType'>\n",
      "12 <class 'int'>\n",
      "12 <class 'int'>\n",
      "(4+56j) <class 'complex'>\n"
     ]
    }
   ],
   "source": [
    "for j in g:\n",
    "    print(j,type(j))"
   ]
  },
  {
   "cell_type": "code",
   "execution_count": 58,
   "id": "6b391ab5-a485-4485-b2b4-458db361ab7a",
   "metadata": {},
   "outputs": [
    {
     "name": "stdout",
     "output_type": "stream",
     "text": [
      "['__add__', '__class__', '__class_getitem__', '__contains__', '__delattr__', '__delitem__', '__dir__', '__doc__', '__eq__', '__format__', '__ge__', '__getattribute__', '__getitem__', '__gt__', '__hash__', '__iadd__', '__imul__', '__init__', '__init_subclass__', '__iter__', '__le__', '__len__', '__lt__', '__mul__', '__ne__', '__new__', '__reduce__', '__reduce_ex__', '__repr__', '__reversed__', '__rmul__', '__setattr__', '__setitem__', '__sizeof__', '__str__', '__subclasshook__', 'append', 'clear', 'copy', 'count', 'extend', 'index', 'insert', 'pop', 'remove', 'reverse', 'sort']\n"
     ]
    }
   ],
   "source": [
    "print(dir(list))"
   ]
  },
  {
   "cell_type": "code",
   "execution_count": 59,
   "id": "e2db420d-0393-4ddf-838e-0e690e517c97",
   "metadata": {},
   "outputs": [
    {
     "name": "stdout",
     "output_type": "stream",
     "text": [
      "[]\n",
      "[45]\n"
     ]
    }
   ],
   "source": [
    "k = []\n",
    "print(k)\n",
    "k.append(45)\n",
    "print(k)"
   ]
  },
  {
   "cell_type": "code",
   "execution_count": 60,
   "id": "428f0e96-9533-4d7a-b63c-23d21c16ba1b",
   "metadata": {},
   "outputs": [
    {
     "name": "stdout",
     "output_type": "stream",
     "text": [
      "[45]\n"
     ]
    },
    {
     "ename": "TypeError",
     "evalue": "list.append() takes exactly one argument (2 given)",
     "output_type": "error",
     "traceback": [
      "\u001b[1;31m---------------------------------------------------------------------------\u001b[0m",
      "\u001b[1;31mTypeError\u001b[0m                                 Traceback (most recent call last)",
      "Cell \u001b[1;32mIn[60], line 2\u001b[0m\n\u001b[0;32m      1\u001b[0m \u001b[38;5;28mprint\u001b[39m(k)\n\u001b[1;32m----> 2\u001b[0m \u001b[43mk\u001b[49m\u001b[38;5;241;43m.\u001b[39;49m\u001b[43mappend\u001b[49m\u001b[43m(\u001b[49m\u001b[38;5;241;43m34\u001b[39;49m\u001b[43m,\u001b[49m\u001b[38;5;241;43m67\u001b[39;49m\u001b[43m)\u001b[49m\n\u001b[0;32m      3\u001b[0m \u001b[38;5;28mprint\u001b[39m(k)\n",
      "\u001b[1;31mTypeError\u001b[0m: list.append() takes exactly one argument (2 given)"
     ]
    }
   ],
   "source": [
    "print(k)\n",
    "k.append(34,67)\n",
    "print(k)"
   ]
  },
  {
   "cell_type": "code",
   "execution_count": 61,
   "id": "b0fedb77-629e-4cd6-bb42-53a35aa4f925",
   "metadata": {},
   "outputs": [
    {
     "name": "stdout",
     "output_type": "stream",
     "text": [
      "[45]\n",
      "[45, [45, 784, 54515]]\n"
     ]
    }
   ],
   "source": [
    "print(k)\n",
    "k.append([45,784,54515])\n",
    "print(k)"
   ]
  },
  {
   "cell_type": "code",
   "execution_count": 62,
   "id": "df47319a-9b79-462c-8ba7-dcfc8d55ea6c",
   "metadata": {},
   "outputs": [
    {
     "name": "stdout",
     "output_type": "stream",
     "text": [
      "[]\n"
     ]
    },
    {
     "ename": "TypeError",
     "evalue": "'int' object is not iterable",
     "output_type": "error",
     "traceback": [
      "\u001b[1;31m---------------------------------------------------------------------------\u001b[0m",
      "\u001b[1;31mTypeError\u001b[0m                                 Traceback (most recent call last)",
      "Cell \u001b[1;32mIn[62], line 3\u001b[0m\n\u001b[0;32m      1\u001b[0m r \u001b[38;5;241m=\u001b[39m []\n\u001b[0;32m      2\u001b[0m \u001b[38;5;28mprint\u001b[39m(r)\n\u001b[1;32m----> 3\u001b[0m \u001b[43mr\u001b[49m\u001b[38;5;241;43m.\u001b[39;49m\u001b[43mextend\u001b[49m\u001b[43m(\u001b[49m\u001b[38;5;241;43m45\u001b[39;49m\u001b[43m)\u001b[49m\n\u001b[0;32m      4\u001b[0m \u001b[38;5;28mprint\u001b[39m(r)\n",
      "\u001b[1;31mTypeError\u001b[0m: 'int' object is not iterable"
     ]
    }
   ],
   "source": [
    "r = []\n",
    "print(r)\n",
    "r.extend(45)\n",
    "print(r)"
   ]
  },
  {
   "cell_type": "code",
   "execution_count": 63,
   "id": "c78e72b7-9b3c-4df7-a3f9-80c4b5633f7d",
   "metadata": {},
   "outputs": [
    {
     "name": "stdout",
     "output_type": "stream",
     "text": [
      "[]\n",
      "[45, 23.0212, 78]\n"
     ]
    }
   ],
   "source": [
    "r = [] \n",
    "print(r)\n",
    "r.extend([45,23.0212,78])\n",
    "print(r)"
   ]
  },
  {
   "cell_type": "code",
   "execution_count": 65,
   "id": "de55bc0d-2c08-4f28-bf83-f49b24707ea8",
   "metadata": {},
   "outputs": [
    {
     "name": "stdout",
     "output_type": "stream",
     "text": [
      "[45, 23.0212, 78]\n",
      "[45, 23.0212, 78, 'Lokesh']\n"
     ]
    }
   ],
   "source": [
    "print(r)\n",
    "r.insert(5,\"Lokesh\")\n",
    "print(r)"
   ]
  },
  {
   "cell_type": "code",
   "execution_count": 66,
   "id": "79bff914-1598-4e2e-a433-4ca91413d2ff",
   "metadata": {},
   "outputs": [
    {
     "name": "stdout",
     "output_type": "stream",
     "text": [
      "[45, 23.0212, 78, 'Lokesh']\n",
      "['Kumar', 45, 23.0212, 78, 'Lokesh']\n"
     ]
    }
   ],
   "source": [
    "print(r)\n",
    "r.insert(0,\"Kumar\")\n",
    "print(r)"
   ]
  },
  {
   "cell_type": "code",
   "execution_count": 67,
   "id": "80c501de-6932-4651-82da-36fc5cc061b8",
   "metadata": {},
   "outputs": [
    {
     "name": "stdout",
     "output_type": "stream",
     "text": [
      "['Kumar', 45, 23.0212, 78, 'Lokesh']\n"
     ]
    },
    {
     "ename": "IndexError",
     "evalue": "list assignment index out of range",
     "output_type": "error",
     "traceback": [
      "\u001b[1;31m---------------------------------------------------------------------------\u001b[0m",
      "\u001b[1;31mIndexError\u001b[0m                                Traceback (most recent call last)",
      "Cell \u001b[1;32mIn[67], line 2\u001b[0m\n\u001b[0;32m      1\u001b[0m \u001b[38;5;28mprint\u001b[39m(r)\n\u001b[1;32m----> 2\u001b[0m \u001b[43mr\u001b[49m\u001b[43m[\u001b[49m\u001b[38;5;241;43m6\u001b[39;49m\u001b[43m]\u001b[49m \u001b[38;5;241m=\u001b[39m \u001b[38;5;241m45\u001b[39m\n\u001b[0;32m      3\u001b[0m \u001b[38;5;28mprint\u001b[39m(r)\n",
      "\u001b[1;31mIndexError\u001b[0m: list assignment index out of range"
     ]
    }
   ],
   "source": [
    "print(r)\n",
    "r[6] = 45\n",
    "print(r)"
   ]
  },
  {
   "cell_type": "code",
   "execution_count": 68,
   "id": "09b42253-b31a-42e2-b5f0-b4d4bbbfb40e",
   "metadata": {},
   "outputs": [
    {
     "name": "stdout",
     "output_type": "stream",
     "text": [
      "['Kumar', 45, 23.0212, 78, 'Lokesh']\n",
      "['Kumar', 23.01, 23.0212, 78, 'Lokesh']\n"
     ]
    }
   ],
   "source": [
    "print(r)\n",
    "r[1] = 23.01\n",
    "print(r)"
   ]
  },
  {
   "cell_type": "code",
   "execution_count": 69,
   "id": "d78ba53b-8650-498c-bc29-1950763cdf50",
   "metadata": {},
   "outputs": [
    {
     "name": "stdout",
     "output_type": "stream",
     "text": [
      "[45, 89, 56, 23, 12, 45, 'Prasad', False]\n"
     ]
    }
   ],
   "source": [
    "w = [45,89,56,23,12,45,\"Prasad\",False]\n",
    "print(w)"
   ]
  },
  {
   "cell_type": "code",
   "execution_count": 70,
   "id": "e29c2fe6-9146-4e3c-a81d-859e0c1326fe",
   "metadata": {},
   "outputs": [
    {
     "name": "stdout",
     "output_type": "stream",
     "text": [
      "[45, 89, 56, 23, 12, 45, 'Prasad', False]\n",
      "[45, 89, 56, 23, 12, 45, 'Prasad']\n"
     ]
    }
   ],
   "source": [
    "print(w)\n",
    "w.pop()\n",
    "print(w)"
   ]
  },
  {
   "cell_type": "code",
   "execution_count": 71,
   "id": "5ad4f0f1-f949-4f00-95c8-55013f6dc467",
   "metadata": {},
   "outputs": [
    {
     "name": "stdout",
     "output_type": "stream",
     "text": [
      "[45, 89, 56, 23, 12, 45, 'Prasad']\n",
      "[45, 56, 23, 12, 45, 'Prasad']\n"
     ]
    }
   ],
   "source": [
    "print(w)\n",
    "w.pop(1)\n",
    "print(w)"
   ]
  },
  {
   "cell_type": "code",
   "execution_count": 72,
   "id": "a9034bf6-d040-4f88-9212-ed88818aebee",
   "metadata": {},
   "outputs": [
    {
     "name": "stdout",
     "output_type": "stream",
     "text": [
      "[45, 56, 23, 12, 45, 'Prasad']\n",
      "[45, 56, 23, 45, 'Prasad']\n"
     ]
    }
   ],
   "source": [
    "print(w)\n",
    "w.remove(12)\n",
    "print(w)"
   ]
  },
  {
   "cell_type": "code",
   "execution_count": 73,
   "id": "a1291430-f5e3-44fa-b99a-3fedc3b45ff4",
   "metadata": {},
   "outputs": [
    {
     "name": "stdout",
     "output_type": "stream",
     "text": [
      "[45, 56, 23, 45, 'Prasad']\n",
      "[45, 56, 45, 'Prasad']\n"
     ]
    }
   ],
   "source": [
    "print(w)\n",
    "del w[2]\n",
    "print(w)"
   ]
  },
  {
   "cell_type": "code",
   "execution_count": 75,
   "id": "2ff23fc2-948b-436d-b935-977a71867525",
   "metadata": {},
   "outputs": [
    {
     "name": "stdout",
     "output_type": "stream",
     "text": [
      "[450, 23, 56, 89, 8]\n"
     ]
    }
   ],
   "source": [
    "m = [450,23,56,89,8]\n",
    "print(m)"
   ]
  },
  {
   "cell_type": "code",
   "execution_count": 76,
   "id": "3f4cfd42-53f5-4217-b0a2-0af740e8517b",
   "metadata": {},
   "outputs": [
    {
     "name": "stdout",
     "output_type": "stream",
     "text": [
      "[450, 23, 56, 89, 8]\n",
      "[8, 23, 56, 89, 450]\n"
     ]
    }
   ],
   "source": [
    "print(m)\n",
    "m.sort()\n",
    "print(m)"
   ]
  },
  {
   "cell_type": "code",
   "execution_count": 77,
   "id": "baff9a2c-7dba-4a4e-a78f-1e039e3f1cf5",
   "metadata": {},
   "outputs": [
    {
     "name": "stdout",
     "output_type": "stream",
     "text": [
      "[12, 560, 89, 5, 3, 45]\n"
     ]
    }
   ],
   "source": [
    "n = [12,560,89,5,3,45]\n",
    "print(n)"
   ]
  },
  {
   "cell_type": "code",
   "execution_count": 78,
   "id": "51db5545-df09-4be2-b1a7-f4c396ef2865",
   "metadata": {},
   "outputs": [
    {
     "name": "stdout",
     "output_type": "stream",
     "text": [
      "[12, 560, 89, 5, 3, 45]\n",
      "[560, 89, 45, 12, 5, 3]\n"
     ]
    }
   ],
   "source": [
    "print(n)\n",
    "n.sort(reverse=True)\n",
    "print(n)"
   ]
  },
  {
   "cell_type": "code",
   "execution_count": 79,
   "id": "75e4b11e-71d6-4c79-ab0c-d81596ea5325",
   "metadata": {},
   "outputs": [
    {
     "name": "stdout",
     "output_type": "stream",
     "text": [
      "[23, 'Likitha', False, (3+5j), None, 12.021]\n"
     ]
    }
   ],
   "source": [
    "v = [23,\"Likitha\",False,3+5j,None,12.021]\n",
    "print(v)"
   ]
  },
  {
   "cell_type": "code",
   "execution_count": 80,
   "id": "60009393-510d-4957-b680-d90ce878280a",
   "metadata": {},
   "outputs": [
    {
     "name": "stdout",
     "output_type": "stream",
     "text": [
      "[23, 'Likitha', False, (3+5j), None, 12.021]\n",
      "[12.021, None, (3+5j), False, 'Likitha', 23]\n"
     ]
    }
   ],
   "source": [
    "print(v)\n",
    "v.reverse()\n",
    "print(v)"
   ]
  },
  {
   "cell_type": "code",
   "execution_count": 81,
   "id": "5380b2b9-167c-4204-a9b7-7ec49d0bb088",
   "metadata": {},
   "outputs": [
    {
     "name": "stdout",
     "output_type": "stream",
     "text": [
      "[120, 56, 23, 8, 96, 120, 2]\n",
      "2\n",
      "0\n"
     ]
    }
   ],
   "source": [
    "z = [120,56,23,8,96,120,2]\n",
    "print(z)\n",
    "print(z.count(120))\n",
    "print(z.count(-3))"
   ]
  },
  {
   "cell_type": "code",
   "execution_count": 82,
   "id": "8f244b17-522a-427d-8434-6320022e2104",
   "metadata": {},
   "outputs": [
    {
     "name": "stdout",
     "output_type": "stream",
     "text": [
      "[154, 12, 56]\n",
      "[154, 12, 56]\n",
      "[154, 12, 56]\n"
     ]
    }
   ],
   "source": [
    "r = [154,12,56]\n",
    "print(r)\n",
    "d = r.copy()\n",
    "print(r)\n",
    "print(d)"
   ]
  },
  {
   "cell_type": "code",
   "execution_count": 83,
   "id": "edf5c3d7-8966-4936-be95-e808e2b98169",
   "metadata": {},
   "outputs": [
    {
     "name": "stdout",
     "output_type": "stream",
     "text": [
      "[154, 12, 56]\n",
      "[154, 12, 56]\n",
      "[154, 12, 56]\n",
      "[]\n"
     ]
    }
   ],
   "source": [
    "print(r)\n",
    "print(d)\n",
    "d.clear()\n",
    "print(r)\n",
    "print(d)"
   ]
  },
  {
   "cell_type": "code",
   "execution_count": 85,
   "id": "8d77dd4d-a567-4e0f-abeb-7028e8065c41",
   "metadata": {},
   "outputs": [
    {
     "name": "stdout",
     "output_type": "stream",
     "text": [
      "[120, 45.11, 'Manikanta', 120, False]\n",
      "0\n"
     ]
    }
   ],
   "source": [
    "z = [120,45.11,\"Manikanta\",120,False]\n",
    "print(z)\n",
    "print(z.index(120))"
   ]
  },
  {
   "cell_type": "code",
   "execution_count": 86,
   "id": "9c48a6b2-5993-40d4-a424-59ed77fb844a",
   "metadata": {},
   "outputs": [
    {
     "ename": "ValueError",
     "evalue": "-10 is not in list",
     "output_type": "error",
     "traceback": [
      "\u001b[1;31m---------------------------------------------------------------------------\u001b[0m",
      "\u001b[1;31mValueError\u001b[0m                                Traceback (most recent call last)",
      "Cell \u001b[1;32mIn[86], line 1\u001b[0m\n\u001b[1;32m----> 1\u001b[0m \u001b[38;5;28mprint\u001b[39m(\u001b[43mz\u001b[49m\u001b[38;5;241;43m.\u001b[39;49m\u001b[43mindex\u001b[49m\u001b[43m(\u001b[49m\u001b[38;5;241;43m-\u001b[39;49m\u001b[38;5;241;43m10\u001b[39;49m\u001b[43m)\u001b[49m)\n",
      "\u001b[1;31mValueError\u001b[0m: -10 is not in list"
     ]
    }
   ],
   "source": [
    "print(z.index(-10))"
   ]
  },
  {
   "cell_type": "markdown",
   "id": "052690bd-a48c-46e9-912a-01e5222ec81d",
   "metadata": {},
   "source": [
    "## Tuple:\n",
    "    - It can be represented as () and seperated with ,\n",
    "    - It stores all data type values \n",
    "    - It stores data in ordered format\n",
    "    - It can't changes a value\n",
    "    - It allows duplicate values\n",
    "    - slicing can be done due to index\n",
    "    - It can be typcasted as tuple()"
   ]
  },
  {
   "cell_type": "code",
   "execution_count": 87,
   "id": "94df296d-2a10-4149-83f3-c765c8142877",
   "metadata": {},
   "outputs": [
    {
     "name": "stdout",
     "output_type": "stream",
     "text": [
      "(12, 45.0212, False, None, (34+2j), 'Bharath', 12) <class 'tuple'>\n"
     ]
    }
   ],
   "source": [
    "h = (12,45.0212,False,None,34+2j,\"Bharath\",12)\n",
    "print(h,type(h))"
   ]
  },
  {
   "cell_type": "code",
   "execution_count": 88,
   "id": "6d0047d2-043d-4117-81dc-d0e85be7355c",
   "metadata": {},
   "outputs": [
    {
     "name": "stdout",
     "output_type": "stream",
     "text": [
      "(12, 45.0212, False, None, (34+2j), 'Bharath', 12)\n",
      "None\n",
      "Bharath\n",
      "(False, None, (34+2j), 'Bharath', 12)\n",
      "(12, 45.0212, False)\n",
      "(45.0212, False, None, (34+2j))\n",
      "(45.0212, None, 'Bharath')\n"
     ]
    }
   ],
   "source": [
    "print(h)\n",
    "print(h[3])\n",
    "print(h[-2])\n",
    "print(h[2:])\n",
    "print(h[:3])\n",
    "print(h[1:5])\n",
    "print(h[1:6:2])"
   ]
  },
  {
   "cell_type": "code",
   "execution_count": 89,
   "id": "12ae4ce2-2014-45ac-a290-abf785d74745",
   "metadata": {},
   "outputs": [
    {
     "name": "stdout",
     "output_type": "stream",
     "text": [
      "(12, 23.021, 'Varun', True, None, (23+78j))\n"
     ]
    }
   ],
   "source": [
    "g = (12,23.021,\"Varun\",True,None,23+78j)\n",
    "print(g)"
   ]
  },
  {
   "cell_type": "code",
   "execution_count": 90,
   "id": "368b446e-24f0-48e2-b9bd-3ed8482d5d58",
   "metadata": {},
   "outputs": [
    {
     "name": "stdout",
     "output_type": "stream",
     "text": [
      "12 <class 'int'>\n",
      "23.021 <class 'float'>\n",
      "Varun <class 'str'>\n",
      "True <class 'bool'>\n",
      "None <class 'NoneType'>\n",
      "(23+78j) <class 'complex'>\n"
     ]
    }
   ],
   "source": [
    "for i in range(len(g)):\n",
    "    print(g[i],type(g[i]))"
   ]
  },
  {
   "cell_type": "code",
   "execution_count": 91,
   "id": "af3cd125-b886-4de9-b1e4-bb455ead4bda",
   "metadata": {},
   "outputs": [
    {
     "name": "stdout",
     "output_type": "stream",
     "text": [
      "12 <class 'int'>\n",
      "23.021 <class 'float'>\n",
      "Varun <class 'str'>\n",
      "True <class 'bool'>\n",
      "None <class 'NoneType'>\n",
      "(23+78j) <class 'complex'>\n"
     ]
    }
   ],
   "source": [
    "for i in g:\n",
    "    print(i,type(i))"
   ]
  },
  {
   "cell_type": "code",
   "execution_count": 92,
   "id": "5f15bd55-d350-456d-b10f-48685a251aa7",
   "metadata": {},
   "outputs": [
    {
     "name": "stdout",
     "output_type": "stream",
     "text": [
      "['__add__', '__class__', '__class_getitem__', '__contains__', '__delattr__', '__dir__', '__doc__', '__eq__', '__format__', '__ge__', '__getattribute__', '__getitem__', '__getnewargs__', '__gt__', '__hash__', '__init__', '__init_subclass__', '__iter__', '__le__', '__len__', '__lt__', '__mul__', '__ne__', '__new__', '__reduce__', '__reduce_ex__', '__repr__', '__rmul__', '__setattr__', '__sizeof__', '__str__', '__subclasshook__', 'count', 'index']\n"
     ]
    }
   ],
   "source": [
    "print(dir(tuple))"
   ]
  },
  {
   "cell_type": "code",
   "execution_count": 93,
   "id": "502cf644-b55e-4d6f-b310-28eb3ce8b777",
   "metadata": {},
   "outputs": [
    {
     "name": "stdout",
     "output_type": "stream",
     "text": [
      "(12, 56, 45, 23, 23)\n",
      "2\n",
      "0\n"
     ]
    }
   ],
   "source": [
    "k = (12,56,45,23,23)\n",
    "print(k)\n",
    "print(k.count(23))\n",
    "print(k.count(-1))"
   ]
  },
  {
   "cell_type": "code",
   "execution_count": 94,
   "id": "e7ae5201-877a-4d2f-8eb7-93db06472e9f",
   "metadata": {},
   "outputs": [
    {
     "name": "stdout",
     "output_type": "stream",
     "text": [
      "(12, 56, 45, 23, 23)\n",
      "0\n"
     ]
    }
   ],
   "source": [
    "print(k)\n",
    "print(k.index(12))"
   ]
  },
  {
   "cell_type": "code",
   "execution_count": 95,
   "id": "939ea726-a67b-450d-a9c3-7d49d0083bf5",
   "metadata": {},
   "outputs": [
    {
     "ename": "ValueError",
     "evalue": "tuple.index(x): x not in tuple",
     "output_type": "error",
     "traceback": [
      "\u001b[1;31m---------------------------------------------------------------------------\u001b[0m",
      "\u001b[1;31mValueError\u001b[0m                                Traceback (most recent call last)",
      "Cell \u001b[1;32mIn[95], line 1\u001b[0m\n\u001b[1;32m----> 1\u001b[0m \u001b[38;5;28mprint\u001b[39m(\u001b[43mk\u001b[49m\u001b[38;5;241;43m.\u001b[39;49m\u001b[43mindex\u001b[49m\u001b[43m(\u001b[49m\u001b[38;5;241;43m-\u001b[39;49m\u001b[38;5;241;43m200\u001b[39;49m\u001b[43m)\u001b[49m)\n",
      "\u001b[1;31mValueError\u001b[0m: tuple.index(x): x not in tuple"
     ]
    }
   ],
   "source": [
    "print(k.index(-200))"
   ]
  },
  {
   "cell_type": "code",
   "execution_count": 102,
   "id": "15dee666-bbd2-4d35-97cf-700612bbb724",
   "metadata": {},
   "outputs": [
    {
     "name": "stdin",
     "output_type": "stream",
     "text": [
      " 24\n"
     ]
    },
    {
     "name": "stdout",
     "output_type": "stream",
     "text": [
      "Not Weird\n"
     ]
    }
   ],
   "source": [
    "n=int(input())\n",
    "if n%2==0:\n",
    "    if n == 4:\n",
    "        print(\"Not Weird\")\n",
    "    elif n>=6 and n<=20:\n",
    "        print(\"Weird\")\n",
    "    else:\n",
    "        print(\"Not Weird\")\n",
    "else:\n",
    "    print(\"Weird\")"
   ]
  },
  {
   "cell_type": "code",
   "execution_count": null,
   "id": "925b3403-43a7-4f6b-a3a7-dd302551a17c",
   "metadata": {},
   "outputs": [],
   "source": []
  }
 ],
 "metadata": {
  "kernelspec": {
   "display_name": "Python 3 (ipykernel)",
   "language": "python",
   "name": "python3"
  },
  "language_info": {
   "codemirror_mode": {
    "name": "ipython",
    "version": 3
   },
   "file_extension": ".py",
   "mimetype": "text/x-python",
   "name": "python",
   "nbconvert_exporter": "python",
   "pygments_lexer": "ipython3",
   "version": "3.9.6"
  }
 },
 "nbformat": 4,
 "nbformat_minor": 5
}
