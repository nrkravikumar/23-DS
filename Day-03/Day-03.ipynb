{
 "cells": [
  {
   "cell_type": "markdown",
   "id": "28cfa700-e834-4544-9216-ea105e995123",
   "metadata": {},
   "source": [
    "## Jumping Statements:\n",
    "    - break => It terminates from the loop\n",
    "    - continue => It skips a value from a loop and it will stops at end of the condition\n",
    "    - pass => for future enhancements and works like continue\n",
    "    - return => It return single or n number of values"
   ]
  },
  {
   "cell_type": "code",
   "execution_count": 1,
   "id": "e2c4a5c7-35a7-431b-bffb-d66bc0fcb776",
   "metadata": {},
   "outputs": [
    {
     "name": "stdin",
     "output_type": "stream",
     "text": [
      "Enter a number:  20\n"
     ]
    },
    {
     "name": "stdout",
     "output_type": "stream",
     "text": [
      "0 1 2 3 4 "
     ]
    }
   ],
   "source": [
    "n = int(input(\"Enter a number: \"))\n",
    "for i in range(n):\n",
    "    if i == 5:\n",
    "        break\n",
    "    else:\n",
    "        print(i,end=\" \")"
   ]
  },
  {
   "cell_type": "code",
   "execution_count": 2,
   "id": "7d20012d-be8a-41b9-aa88-514c5aefdd90",
   "metadata": {},
   "outputs": [
    {
     "name": "stdin",
     "output_type": "stream",
     "text": [
      "Enter a number:  10\n"
     ]
    },
    {
     "name": "stdout",
     "output_type": "stream",
     "text": [
      "0 1 2 3 4 6 7 8 9 "
     ]
    }
   ],
   "source": [
    "n = int(input(\"Enter a number: \"))\n",
    "for i in range(n):\n",
    "    if i == 5:\n",
    "        continue\n",
    "    else:\n",
    "        print(i,end=\" \")"
   ]
  },
  {
   "cell_type": "code",
   "execution_count": 3,
   "id": "83684a5e-b542-46c8-b3a5-315e08067fad",
   "metadata": {},
   "outputs": [
    {
     "name": "stdin",
     "output_type": "stream",
     "text": [
      "Enter a number:  10\n"
     ]
    },
    {
     "name": "stdout",
     "output_type": "stream",
     "text": [
      "0 1 2 3 4 6 7 8 9 "
     ]
    }
   ],
   "source": [
    "n = int(input(\"Enter a number: \"))\n",
    "for i in range(n):\n",
    "    if i == 5:\n",
    "        pass\n",
    "    else:\n",
    "        print(i,end=\" \")"
   ]
  },
  {
   "cell_type": "markdown",
   "id": "db2e4c5a-66ca-400c-bc60-6a1ce6332ecb",
   "metadata": {},
   "source": [
    "```\n",
    "condition: 8,10\n",
    "Input:\n",
    "    5\n",
    "    12\n",
    "Output:\n",
    "    23F41A3205\n",
    "    23F41A3206\n",
    "    23F41A3207\n",
    "    23F41A3209\n",
    "    23F41A3211\n",
    "```"
   ]
  },
  {
   "cell_type": "code",
   "execution_count": 5,
   "id": "3ecc0799-597f-4074-b3ec-a8e77f975f54",
   "metadata": {},
   "outputs": [
    {
     "name": "stdin",
     "output_type": "stream",
     "text": [
      " 5\n",
      " 12\n"
     ]
    },
    {
     "name": "stdout",
     "output_type": "stream",
     "text": [
      "23F41A3205\n",
      "23F41A3206\n",
      "23F41A3207\n",
      "23F41A3209\n",
      "23F41A3211\n"
     ]
    }
   ],
   "source": [
    "n,m = int(input()),int(input())\n",
    "for i in range(n,m):\n",
    "    if i==8 or i==10:\n",
    "        continue\n",
    "    else:\n",
    "        print(f\"23F41A32{i:02}\")"
   ]
  },
  {
   "cell_type": "code",
   "execution_count": null,
   "id": "c4a358f9-777c-431e-b237-7270082f1325",
   "metadata": {},
   "outputs": [],
   "source": [
    "n = 1234\n",
    "k = n%10 = 4\n",
    "r = r*10+k=4\n",
    "n//=10 = 123\n",
    "---------\n",
    "n= 123\n",
    "k = n%10 = 3\n",
    "r = 4*10+3=43\n",
    "n//=10 = 12\n",
    "------------\n",
    "n = 12\n",
    "k = n%10 = 2\n",
    "r= 43*10+2 = 432\n",
    "n//=10 = 1\n",
    "--------\n",
    "n = 1\n",
    "k = n%10=1\n",
    "r = 432*10+1 = 4321\n",
    "n//=10=0"
   ]
  },
  {
   "cell_type": "code",
   "execution_count": 19,
   "id": "7db9e954-5887-4974-b3ec-cb7f547c6170",
   "metadata": {},
   "outputs": [
    {
     "name": "stdin",
     "output_type": "stream",
     "text": [
      " 456213\n"
     ]
    },
    {
     "name": "stdout",
     "output_type": "stream",
     "text": [
      "Given number is: 456213\n",
      "reverese number is: 312654\n"
     ]
    }
   ],
   "source": [
    "n = k = int(input())\n",
    "r = 0\n",
    "while n!=0:\n",
    "    r = r*10+n%10\n",
    "    n//=10\n",
    "print(f\"Given number is: {k}\")\n",
    "print(f\"reverese number is: {r}\")"
   ]
  },
  {
   "cell_type": "code",
   "execution_count": 14,
   "id": "3c1f61d7-bdca-4cd9-90c0-66aa42c0812a",
   "metadata": {},
   "outputs": [
    {
     "name": "stdout",
     "output_type": "stream",
     "text": [
      "4\n",
      "123\n"
     ]
    }
   ],
   "source": [
    "print(1234%10)\n",
    "print(1234//10)"
   ]
  },
  {
   "cell_type": "code",
   "execution_count": 11,
   "id": "9b61c00a-2bc2-42c8-b448-ef14f0586ff5",
   "metadata": {},
   "outputs": [
    {
     "name": "stdout",
     "output_type": "stream",
     "text": [
      "2\n"
     ]
    }
   ],
   "source": [
    "print(4//2)"
   ]
  },
  {
   "cell_type": "code",
   "execution_count": 12,
   "id": "bb2e9ece-b774-41c4-b52f-3fcf7d99f14b",
   "metadata": {},
   "outputs": [
    {
     "name": "stdout",
     "output_type": "stream",
     "text": [
      "0\n"
     ]
    }
   ],
   "source": [
    "print(4%2)"
   ]
  },
  {
   "cell_type": "code",
   "execution_count": 21,
   "id": "d1efca8d-85d9-4b26-904c-ca5305a86842",
   "metadata": {},
   "outputs": [
    {
     "name": "stdout",
     "output_type": "stream",
     "text": [
      "1.Square\n",
      "2.Cube\n",
      "3.Even number upto range\n",
      "4.Exit\n"
     ]
    },
    {
     "name": "stdin",
     "output_type": "stream",
     "text": [
      "Enter Your Choice:  3\n",
      "Enter a range:  10\n"
     ]
    },
    {
     "name": "stdout",
     "output_type": "stream",
     "text": [
      "0 2 4 6 8 \n",
      "1.Square\n",
      "2.Cube\n",
      "3.Even number upto range\n",
      "4.Exit\n"
     ]
    },
    {
     "name": "stdin",
     "output_type": "stream",
     "text": [
      "Enter Your Choice:  4\n"
     ]
    },
    {
     "name": "stdout",
     "output_type": "stream",
     "text": [
      "Thankyou Visit Again...\n"
     ]
    }
   ],
   "source": [
    "while True:\n",
    "    print(\"1.Square\\n2.Cube\\n3.Even number upto range\\n4.Exit\")\n",
    "    m = int(input(\"Enter Your Choice: \"))\n",
    "    if m == 4:\n",
    "        print(\"Thankyou Visit Again...\")\n",
    "        break\n",
    "    elif m == 1:\n",
    "        a = int(input(\"Enter a number to Square: \"))\n",
    "        print(f\"Square of {a} is: {a**2}\")\n",
    "    elif m == 2:\n",
    "        b = int(input(\"Enter a number to Cube: \"))\n",
    "        print(f\"Cube of {b} is: {b**3}\")\n",
    "    elif m == 3:\n",
    "        v = int(input(\"Enter a range: \"))\n",
    "        for i in range(v):\n",
    "            if i%2!=0:\n",
    "                continue\n",
    "            else:\n",
    "                print(i,end=\" \")\n",
    "        print()\n",
    "    else:\n",
    "        print(\"Select Valid option\")"
   ]
  },
  {
   "cell_type": "markdown",
   "id": "549a869d-f738-4d17-bcf0-5f9b9eb5f18c",
   "metadata": {},
   "source": [
    "## Inner Loop:\n",
    "    - Loop within a loop"
   ]
  },
  {
   "cell_type": "code",
   "execution_count": 24,
   "id": "dec8b52a-acab-42a5-9d1c-d6e8d1b7bc13",
   "metadata": {},
   "outputs": [
    {
     "name": "stdin",
     "output_type": "stream",
     "text": [
      "Enter a range:  5\n"
     ]
    },
    {
     "name": "stdout",
     "output_type": "stream",
     "text": [
      "* * * * * \n",
      "* * * * * \n",
      "* * * * * \n",
      "* * * * * \n",
      "* * * * * \n"
     ]
    }
   ],
   "source": [
    "n = int(input(\"Enter a range: \"))\n",
    "for i in range(n):\n",
    "    for j in range(n):\n",
    "        print(\"*\",end=\" \")\n",
    "    print()"
   ]
  },
  {
   "cell_type": "code",
   "execution_count": 27,
   "id": "80e39188-820c-41b3-b641-63adb5c78bc5",
   "metadata": {},
   "outputs": [
    {
     "name": "stdin",
     "output_type": "stream",
     "text": [
      "Enter a range:  3\n"
     ]
    },
    {
     "name": "stdout",
     "output_type": "stream",
     "text": [
      "\n",
      "* \n",
      "* * \n"
     ]
    }
   ],
   "source": [
    "n = int(input(\"Enter a range: \"))\n",
    "for i in range(n):\n",
    "    for j in range(i):\n",
    "        print(\"*\",end=\" \")\n",
    "    print()"
   ]
  },
  {
   "cell_type": "code",
   "execution_count": 28,
   "id": "8c694522-d799-48bf-b775-e50f5ab0201e",
   "metadata": {},
   "outputs": [
    {
     "name": "stdin",
     "output_type": "stream",
     "text": [
      "Enter a range:  3\n"
     ]
    },
    {
     "name": "stdout",
     "output_type": "stream",
     "text": [
      "* \n",
      "* * \n",
      "* * * \n"
     ]
    }
   ],
   "source": [
    "n = int(input(\"Enter a range: \"))\n",
    "for i in range(n):\n",
    "    for j in range(i+1):\n",
    "        print(\"*\",end=\" \")\n",
    "    print()"
   ]
  },
  {
   "cell_type": "code",
   "execution_count": 3,
   "id": "3a158669-6b72-43fb-a1ed-acf537bc3dca",
   "metadata": {},
   "outputs": [
    {
     "name": "stdin",
     "output_type": "stream",
     "text": [
      "Enter a range:  5\n"
     ]
    },
    {
     "name": "stdout",
     "output_type": "stream",
     "text": [
      "* * * * * \n",
      "* * * * \n",
      "* * * \n",
      "* * \n",
      "* \n"
     ]
    }
   ],
   "source": [
    "n = int(input(\"Enter a range: \"))\n",
    "for i in range(n):\n",
    "    for j in range(n-i):\n",
    "        print(\"*\",end=\" \")\n",
    "    print()"
   ]
  },
  {
   "cell_type": "code",
   "execution_count": 2,
   "id": "8655c9a6-ad0f-495b-9d18-d358640dcfea",
   "metadata": {},
   "outputs": [
    {
     "name": "stdin",
     "output_type": "stream",
     "text": [
      "Enter a range:  5\n"
     ]
    },
    {
     "name": "stdout",
     "output_type": "stream",
     "text": [
      "* * * * * \n",
      "*       * \n",
      "*       * \n",
      "*       * \n",
      "* * * * * \n"
     ]
    }
   ],
   "source": [
    "n = int(input(\"Enter a range: \"))\n",
    "for i in range(n):\n",
    "    for j in range(n):\n",
    "        if i==0 or j==0 or i==n-1 or j==n-1:\n",
    "            print(\"*\",end=\" \")\n",
    "        else:\n",
    "            print(\" \",end=\" \")\n",
    "    print()"
   ]
  },
  {
   "cell_type": "markdown",
   "id": "15902af6-b340-47e8-b086-4998914f7400",
   "metadata": {},
   "source": [
    "```\n",
    "Input:\n",
    "    3\n",
    "    12\n",
    "    5\n",
    "    6\n",
    "Output:\n",
    "    1 2 3 4 5 6 7 8 9 10 11 12\n",
    "    1 2 3 4 5\n",
    "    1 2 3 4 5 6\n",
    "```"
   ]
  },
  {
   "cell_type": "code",
   "execution_count": 3,
   "id": "80675683-0c92-43e6-94cc-380773e55933",
   "metadata": {},
   "outputs": [
    {
     "name": "stdin",
     "output_type": "stream",
     "text": [
      " 3\n",
      " 12\n"
     ]
    },
    {
     "name": "stdout",
     "output_type": "stream",
     "text": [
      "1 2 3 4 5 6 7 8 9 10 11 12 \n"
     ]
    },
    {
     "name": "stdin",
     "output_type": "stream",
     "text": [
      " 5\n"
     ]
    },
    {
     "name": "stdout",
     "output_type": "stream",
     "text": [
      "1 2 3 4 5 \n"
     ]
    },
    {
     "name": "stdin",
     "output_type": "stream",
     "text": [
      " 6\n"
     ]
    },
    {
     "name": "stdout",
     "output_type": "stream",
     "text": [
      "1 2 3 4 5 6 \n"
     ]
    }
   ],
   "source": [
    "n = int(input())\n",
    "for i in range(n):\n",
    "    m = int(input())\n",
    "    for j in range(m):\n",
    "        print(j+1,end=\" \")\n",
    "    print()"
   ]
  },
  {
   "cell_type": "markdown",
   "id": "5e15235d-8bbc-4f1f-9a52-8dc5164d61ec",
   "metadata": {},
   "source": [
    "## Functions:\n",
    "    - To perform a specific task\n",
    "    Syntax:\n",
    "        def function_name(parameters):\n",
    "            //statements\n",
    "            return return_type\n",
    "    - Predefined functions => print,input,range etc.,\n",
    "    - User Defined functions\n",
    "        = with returntype and with arguments\n",
    "        = with returntype and without arguments\n",
    "        = without returntype and with arguments\n",
    "        = without returntype and without arguments\n",
    "        "
   ]
  },
  {
   "cell_type": "markdown",
   "id": "dcf07ca8-4950-4f79-ac48-b113d08153b6",
   "metadata": {},
   "source": [
    "## with returntype and with arguments"
   ]
  },
  {
   "cell_type": "code",
   "execution_count": 6,
   "id": "a1ff013a-641c-44aa-899f-8692b9b16331",
   "metadata": {},
   "outputs": [
    {
     "name": "stdin",
     "output_type": "stream",
     "text": [
      " 5\n"
     ]
    },
    {
     "name": "stdout",
     "output_type": "stream",
     "text": [
      "Entered number 5 is Odd\n"
     ]
    }
   ],
   "source": [
    "def evencheck(h): ## function\n",
    "    ''' Check the number is even or not '''\n",
    "    flag = 0\n",
    "    if h%2==0:\n",
    "        flag = 1\n",
    "    return flag\n",
    "\n",
    "# Main\n",
    "n = int(input())\n",
    "if evencheck(n) == 1:\n",
    "    print(f\"Entered number {n} is Even\")\n",
    "else:\n",
    "    print(f\"Entered number {n} is Odd\")"
   ]
  },
  {
   "cell_type": "code",
   "execution_count": null,
   "id": "90f36c22-727c-4c3e-beb1-b3149c70a31f",
   "metadata": {},
   "outputs": [],
   "source": []
  }
 ],
 "metadata": {
  "kernelspec": {
   "display_name": "Python 3 (ipykernel)",
   "language": "python",
   "name": "python3"
  },
  "language_info": {
   "codemirror_mode": {
    "name": "ipython",
    "version": 3
   },
   "file_extension": ".py",
   "mimetype": "text/x-python",
   "name": "python",
   "nbconvert_exporter": "python",
   "pygments_lexer": "ipython3",
   "version": "3.9.6"
  }
 },
 "nbformat": 4,
 "nbformat_minor": 5
}
