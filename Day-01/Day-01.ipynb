{
 "cells": [
  {
   "cell_type": "markdown",
   "id": "18fe415c-d365-459a-9ab7-9014083f2084",
   "metadata": {},
   "source": [
    "# Python Basics"
   ]
  },
  {
   "cell_type": "markdown",
   "id": "d535d569-1b1e-4511-9464-b6095c237612",
   "metadata": {},
   "source": [
    "## Variable:\n",
    "    - To store a value\n",
    "    - To change a value\n",
    "    - It stores all data type values\n",
    "    Syntax:\n",
    "        variable_name = value"
   ]
  },
  {
   "cell_type": "markdown",
   "id": "d8a1363c-3d42-4648-94bf-e52c41abbdf0",
   "metadata": {},
   "source": [
    "## Variable Assignment Types:\n",
    "    - single variable = single value\n",
    "    - n number of variables = n number of values\n",
    "    - single variable = n number of values\n",
    "    - n number of variables = single value"
   ]
  },
  {
   "cell_type": "code",
   "execution_count": 1,
   "id": "69919c52-0fd1-4c00-a428-06ebc005b62b",
   "metadata": {},
   "outputs": [
    {
     "data": {
      "text/plain": [
       "45"
      ]
     },
     "execution_count": 1,
     "metadata": {},
     "output_type": "execute_result"
    }
   ],
   "source": [
    "a = 45\n",
    "a"
   ]
  },
  {
   "cell_type": "code",
   "execution_count": 2,
   "id": "e11c9832-e7f0-4424-bd38-67e113db1f97",
   "metadata": {},
   "outputs": [
    {
     "data": {
      "text/plain": [
       "56"
      ]
     },
     "execution_count": 2,
     "metadata": {},
     "output_type": "execute_result"
    }
   ],
   "source": [
    "b = 56\n",
    "b"
   ]
  },
  {
   "cell_type": "code",
   "execution_count": 3,
   "id": "07962e3c-ecde-4afe-b669-d54cd2054056",
   "metadata": {},
   "outputs": [
    {
     "data": {
      "text/plain": [
       "56"
      ]
     },
     "execution_count": 3,
     "metadata": {},
     "output_type": "execute_result"
    }
   ],
   "source": [
    "a\n",
    "b"
   ]
  },
  {
   "cell_type": "code",
   "execution_count": 4,
   "id": "f38d7988-c14a-4adf-a5f6-eb8f85f23a44",
   "metadata": {},
   "outputs": [
    {
     "data": {
      "text/plain": [
       "45"
      ]
     },
     "execution_count": 4,
     "metadata": {},
     "output_type": "execute_result"
    }
   ],
   "source": [
    "b\n",
    "a"
   ]
  },
  {
   "cell_type": "code",
   "execution_count": 5,
   "id": "54a49683-a61c-42bb-b910-7e31a35786fa",
   "metadata": {},
   "outputs": [
    {
     "data": {
      "text/plain": [
       "(45, 56)"
      ]
     },
     "execution_count": 5,
     "metadata": {},
     "output_type": "execute_result"
    }
   ],
   "source": [
    "a,b"
   ]
  },
  {
   "cell_type": "code",
   "execution_count": 7,
   "id": "7c5a5453-6709-4052-a941-9df54c806e67",
   "metadata": {},
   "outputs": [
    {
     "data": {
      "text/plain": [
       "'78'"
      ]
     },
     "execution_count": 7,
     "metadata": {},
     "output_type": "execute_result"
    }
   ],
   "source": [
    "c = '78'\n",
    "c"
   ]
  },
  {
   "cell_type": "code",
   "execution_count": 8,
   "id": "06f588ec-8da3-4953-9627-82d887ca17ca",
   "metadata": {},
   "outputs": [
    {
     "name": "stdout",
     "output_type": "stream",
     "text": [
      "12\n"
     ]
    },
    {
     "data": {
      "text/plain": [
       "'12'"
      ]
     },
     "execution_count": 8,
     "metadata": {},
     "output_type": "execute_result"
    }
   ],
   "source": [
    "d = '12'\n",
    "print(d)\n",
    "d"
   ]
  },
  {
   "cell_type": "code",
   "execution_count": 9,
   "id": "c04df9ac-8043-45ef-b013-2e7788a5f261",
   "metadata": {},
   "outputs": [
    {
     "name": "stdout",
     "output_type": "stream",
     "text": [
      "12 45.0512\n"
     ]
    }
   ],
   "source": [
    "a = 12\n",
    "b = 45.0512\n",
    "print(a,b)"
   ]
  },
  {
   "cell_type": "code",
   "execution_count": 10,
   "id": "ae474b79-9568-48ad-8da8-03e7b0e21920",
   "metadata": {},
   "outputs": [
    {
     "name": "stdout",
     "output_type": "stream",
     "text": [
      "12 45.021 Lalitha True (4+5j) None\n"
     ]
    }
   ],
   "source": [
    "a,b,c,d,e,f = 12,45.021,\"Lalitha\",True,4+5j,None\n",
    "print(a,b,c,d,e,f)"
   ]
  },
  {
   "cell_type": "code",
   "execution_count": 11,
   "id": "33bdcc57-505f-4759-8acc-cd177a8292fb",
   "metadata": {},
   "outputs": [
    {
     "ename": "ValueError",
     "evalue": "too many values to unpack (expected 6)",
     "output_type": "error",
     "traceback": [
      "\u001b[1;31m---------------------------------------------------------------------------\u001b[0m",
      "\u001b[1;31mValueError\u001b[0m                                Traceback (most recent call last)",
      "Cell \u001b[1;32mIn[11], line 1\u001b[0m\n\u001b[1;32m----> 1\u001b[0m a,b,c,d,e,f \u001b[38;5;241m=\u001b[39m \u001b[38;5;241m12\u001b[39m,\u001b[38;5;241m45.021\u001b[39m,\u001b[38;5;124m\"\u001b[39m\u001b[38;5;124mLalitha\u001b[39m\u001b[38;5;124m\"\u001b[39m,\u001b[38;5;28;01mTrue\u001b[39;00m,\u001b[38;5;241m4\u001b[39m\u001b[38;5;241m+\u001b[39m\u001b[38;5;241m5\u001b[39mj,\u001b[38;5;28;01mNone\u001b[39;00m,\u001b[38;5;241m45\u001b[39m\n\u001b[0;32m      2\u001b[0m \u001b[38;5;28mprint\u001b[39m(a,b,c,d,e,f)\n",
      "\u001b[1;31mValueError\u001b[0m: too many values to unpack (expected 6)"
     ]
    }
   ],
   "source": [
    "a,b,c,d,e,f = 12,45.021,\"Lalitha\",True,4+5j,None,45\n",
    "print(a,b,c,d,e,f)"
   ]
  },
  {
   "cell_type": "code",
   "execution_count": 12,
   "id": "6ce9f134-2908-4b0b-bf6c-37e12e37e3df",
   "metadata": {},
   "outputs": [
    {
     "ename": "ValueError",
     "evalue": "not enough values to unpack (expected 6, got 3)",
     "output_type": "error",
     "traceback": [
      "\u001b[1;31m---------------------------------------------------------------------------\u001b[0m",
      "\u001b[1;31mValueError\u001b[0m                                Traceback (most recent call last)",
      "Cell \u001b[1;32mIn[12], line 1\u001b[0m\n\u001b[1;32m----> 1\u001b[0m a,b,c,d,e,f \u001b[38;5;241m=\u001b[39m \u001b[38;5;241m12\u001b[39m,\u001b[38;5;241m45.021\u001b[39m,\u001b[38;5;124m\"\u001b[39m\u001b[38;5;124mLalitha\u001b[39m\u001b[38;5;124m\"\u001b[39m\n\u001b[0;32m      2\u001b[0m \u001b[38;5;28mprint\u001b[39m(a,b,c,d,e,f)\n",
      "\u001b[1;31mValueError\u001b[0m: not enough values to unpack (expected 6, got 3)"
     ]
    }
   ],
   "source": [
    "a,b,c,d,e,f = 12,45.021,\"Lalitha\"\n",
    "print(a,b,c,d,e,f)"
   ]
  },
  {
   "cell_type": "code",
   "execution_count": 13,
   "id": "3a237910-81fa-407b-ba86-05f5e7ddce60",
   "metadata": {},
   "outputs": [
    {
     "name": "stdout",
     "output_type": "stream",
     "text": [
      "(12, 45.021, 'Lalitha', True, (4+5j), None)\n"
     ]
    }
   ],
   "source": [
    "a = 12,45.021,\"Lalitha\",True,4+5j,None\n",
    "print(a)"
   ]
  },
  {
   "cell_type": "code",
   "execution_count": 14,
   "id": "d773a8d8-cb7b-4d5b-9d23-1326e2cf0dd9",
   "metadata": {},
   "outputs": [
    {
     "name": "stdout",
     "output_type": "stream",
     "text": [
      "126 126 126\n"
     ]
    }
   ],
   "source": [
    "p = k = m = 126\n",
    "print(p,k,m)"
   ]
  },
  {
   "cell_type": "markdown",
   "id": "0355875a-cb15-413a-a20f-c6e465510aba",
   "metadata": {},
   "source": [
    "## Data Types:\n",
    "    - int => numeric\n",
    "    - float => numeric and decimal values\n",
    "    - complex => real and imaginary\n",
    "    - boolean => True or False\n",
    "    - None => None\n",
    "    - All Data structures[list,tuple,set,string and dictionary]"
   ]
  },
  {
   "cell_type": "markdown",
   "id": "34d5255b-88fe-496d-b7a5-66e08c0bda69",
   "metadata": {},
   "source": [
    "## Type:\n",
    "    - To know the data type of a variable\n",
    "    Syntax:\n",
    "        type(variable_name)"
   ]
  },
  {
   "cell_type": "code",
   "execution_count": 15,
   "id": "20e21ffb-9d35-4a0e-81b9-b699b11d169d",
   "metadata": {},
   "outputs": [
    {
     "name": "stdout",
     "output_type": "stream",
     "text": [
      "45 <class 'str'>\n"
     ]
    },
    {
     "data": {
      "text/plain": [
       "str"
      ]
     },
     "execution_count": 15,
     "metadata": {},
     "output_type": "execute_result"
    }
   ],
   "source": [
    "r = '45'\n",
    "print(r,type(r))\n",
    "type(r)"
   ]
  },
  {
   "cell_type": "code",
   "execution_count": 16,
   "id": "1f59786f-77d3-43ba-ab86-17b6a74b4f5b",
   "metadata": {},
   "outputs": [
    {
     "name": "stdout",
     "output_type": "stream",
     "text": [
      "12 <class 'int'>\n",
      "45.021 <class 'float'>\n",
      "Lalitha <class 'str'>\n",
      "True <class 'bool'>\n",
      "(4+5j) <class 'complex'>\n",
      "None <class 'NoneType'>\n"
     ]
    }
   ],
   "source": [
    "a,b,c,d,e,f = 12,45.021,\"Lalitha\",True,4+5j,None\n",
    "print(a,type(a))\n",
    "print(b,type(b))\n",
    "print(c,type(c))\n",
    "print(d,type(d))\n",
    "print(e,type(e))\n",
    "print(f,type(f))"
   ]
  },
  {
   "cell_type": "markdown",
   "id": "92fa2938-5779-4dac-b5e7-f038ee3bcab3",
   "metadata": {},
   "source": [
    "## Input Formatting:\n",
    "    - It displays an info to a user\n",
    "    - It reads a value from a user\n",
    "    - By default it reads a string data type value\n",
    "    Syntax:\n",
    "        variable_name = input(\"something info\")"
   ]
  },
  {
   "cell_type": "code",
   "execution_count": 22,
   "id": "5ac93a9b-af87-4408-a437-c89fcd82f622",
   "metadata": {},
   "outputs": [
    {
     "name": "stdin",
     "output_type": "stream",
     "text": [
      "Enter a value:  True\n"
     ]
    },
    {
     "name": "stdout",
     "output_type": "stream",
     "text": [
      "True <class 'str'>\n"
     ]
    }
   ],
   "source": [
    "n = input(\"Enter a value: \")\n",
    "print(n,type(n))"
   ]
  },
  {
   "cell_type": "markdown",
   "id": "2e12e02a-f1d6-4782-9545-9066d169de38",
   "metadata": {},
   "source": [
    "## Typecasting:\n",
    "    - To change one data type of value to another data type value\n",
    "    - int()\n",
    "    - float()\n",
    "    - complex()\n",
    "    - bool()\n",
    "    - All Data Structures like [list(),tuple(),set(),str() and dict()]"
   ]
  },
  {
   "cell_type": "code",
   "execution_count": 23,
   "id": "87d0f774-b1d6-4d79-9171-94af2672da13",
   "metadata": {},
   "outputs": [
    {
     "name": "stdout",
     "output_type": "stream",
     "text": [
      "78 <class 'str'>\n",
      "78.0 <class 'float'>\n"
     ]
    }
   ],
   "source": [
    "n = '78'\n",
    "print(n,type(n))\n",
    "k = float(n)\n",
    "print(k,type(k))"
   ]
  },
  {
   "cell_type": "code",
   "execution_count": 24,
   "id": "2ef425b9-9b96-4820-b34f-6d604d6937e9",
   "metadata": {},
   "outputs": [
    {
     "name": "stdout",
     "output_type": "stream",
     "text": [
      "78.0 <class 'float'>\n"
     ]
    }
   ],
   "source": [
    "k = float('78')\n",
    "print(k,type(k))"
   ]
  },
  {
   "cell_type": "code",
   "execution_count": 28,
   "id": "80929c66-6945-4740-99aa-6355366cdd00",
   "metadata": {},
   "outputs": [
    {
     "name": "stdin",
     "output_type": "stream",
     "text": [
      "Enter a number:  12\n"
     ]
    },
    {
     "name": "stdout",
     "output_type": "stream",
     "text": [
      "12 <class 'int'>\n"
     ]
    }
   ],
   "source": [
    "n = int(input(\"Enter a number: \"))\n",
    "print(n,type(n))"
   ]
  },
  {
   "cell_type": "markdown",
   "id": "1f11c053-d775-4af3-a3ad-9500fc201613",
   "metadata": {},
   "source": [
    "## Operators:\n",
    "    - Arithmetic => +,-,*,/,%,//,**\n",
    "    - Assignment => +=,-=,*=,/=,%=,//=,**=\n",
    "    - Logical => AND,OR,XOR,NOT\n",
    "    - Bitwise => &,|,^,>>,<<,!\n",
    "    - Relational => !=,==,>,<,<=,>=\n",
    "    - Membership => in, not in\n",
    "    - Identity => is, is not"
   ]
  },
  {
   "cell_type": "markdown",
   "id": "f24f2dbc-0c6f-4ab2-8bca-8a3923528b4a",
   "metadata": {},
   "source": [
    "## Output Formatting:\n",
    "    - +,\n",
    "    - %(format specifiers)\n",
    "    - .format\n",
    "    - f string"
   ]
  },
  {
   "cell_type": "markdown",
   "id": "dcf925b0-ed13-4656-b36a-7f0f4a5f3e93",
   "metadata": {},
   "source": [
    "```\n",
    "Input:\n",
    "    4 \n",
    "    3\n",
    "Output:\n",
    "    Addition of 4 and 3 is: ?\n",
    "    Substraction of 4 and 3 is: ?\n",
    "```"
   ]
  },
  {
   "cell_type": "code",
   "execution_count": 37,
   "id": "e37f1fce-9f89-4a99-b85f-f68bc26bc8a7",
   "metadata": {},
   "outputs": [
    {
     "name": "stdin",
     "output_type": "stream",
     "text": [
      " 1\n",
      " 2\n"
     ]
    },
    {
     "name": "stdout",
     "output_type": "stream",
     "text": [
      "Addition of 1 and 2 is:  3\n",
      "Substraction of 1 and 2 is: -1\n",
      "Multiplication of 1 and 2 is: 2\n",
      "Division of 1 and 2 is: 0.5\n",
      "Modulus of 2 and 1 is: 1\n",
      "Floor Division of 1 and 2 is: 0\n"
     ]
    }
   ],
   "source": [
    "n,m = int(input()),int(input())\n",
    "print(\"Addition of\",n,\"and\",m,\"is: \",n+m)\n",
    "print(\"Substraction of \"+str(n)+\" and \"+str(m)+\" is: \"+str(n-m))\n",
    "print(\"Multiplication of %d and %d is: %d\"%(n,m,n*m))\n",
    "print(\"Division of {} and {} is: {}\".format(n,m,n/m))\n",
    "print(\"Modulus of {1} and {0} is: {2}\".format(n,m,n%m))\n",
    "print(f\"Floor Division of {n} and {m} is: {n//m}\")"
   ]
  },
  {
   "cell_type": "markdown",
   "id": "ba86d032-5368-4648-b47d-f517f3efa15f",
   "metadata": {},
   "source": [
    "```\n",
    "Expression: 3x*2+45y+6z*3\n",
    "Input:\n",
    "    2 \n",
    "    5 \n",
    "    6\n",
    "Output:\n",
    "    Entered numbers are: 2,5,6\n",
    "    Entered numbers are: '2','5','6'\n",
    "    Given expression is: 3x*2+45y+6z*3 \n",
    "        and its value is: ?\n",
    "```"
   ]
  },
  {
   "cell_type": "code",
   "execution_count": 1,
   "id": "3409e9b8-0b55-41a3-b18c-ec524e578ce8",
   "metadata": {},
   "outputs": [
    {
     "name": "stdin",
     "output_type": "stream",
     "text": [
      " 2\n",
      " 5\n",
      " 6\n"
     ]
    },
    {
     "name": "stdout",
     "output_type": "stream",
     "text": [
      "Entered numbers are: 2,5,6\n",
      "Entered numbers are: '2','5','6'\n",
      "Given expression is 3x^2+45y+6z*3 and its value is: 1533\n"
     ]
    }
   ],
   "source": [
    "n,m,k = int(input()),int(input()),int(input())\n",
    "print(f\"Entered numbers are: {n},{m},{k}\")\n",
    "print(f\"Entered numbers are: '{n}','{m}','{k}'\")\n",
    "print(f\"Given expression is 3x^2+45y+6z*3 and its value is: {3*n**2+45*m+6*k**3}\")"
   ]
  },
  {
   "cell_type": "code",
   "execution_count": null,
   "id": "c2216db8-14dd-4a7e-aca8-24ad2c68a11f",
   "metadata": {},
   "outputs": [],
   "source": []
  }
 ],
 "metadata": {
  "kernelspec": {
   "display_name": "Python 3 (ipykernel)",
   "language": "python",
   "name": "python3"
  },
  "language_info": {
   "codemirror_mode": {
    "name": "ipython",
    "version": 3
   },
   "file_extension": ".py",
   "mimetype": "text/x-python",
   "name": "python",
   "nbconvert_exporter": "python",
   "pygments_lexer": "ipython3",
   "version": "3.9.6"
  }
 },
 "nbformat": 4,
 "nbformat_minor": 5
}
